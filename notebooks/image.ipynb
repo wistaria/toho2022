{
 "cells": [
  {
   "cell_type": "markdown",
   "id": "cff0f3ab",
   "metadata": {},
   "source": [
    "# 画像の読み込みと変換"
   ]
  },
  {
   "cell_type": "markdown",
   "id": "6253febd",
   "metadata": {},
   "source": [
    "「Copy to Drive」ボタンを押すことで、ノートブックのコピーが自分のGoogle Drive上にコピーされ、実行・保存できるようになります"
   ]
  },
  {
   "cell_type": "markdown",
   "id": "911e9dca",
   "metadata": {},
   "source": [
    "セルを上から順に「Shift + Enter」または「Shift + Return」で実行していくことで、結果を確認することができます"
   ]
  },
  {
   "cell_type": "markdown",
   "id": "508ecb73",
   "metadata": {},
   "source": [
    "### Google Driveのマウントと画像ファイルのコピー"
   ]
  },
  {
   "cell_type": "markdown",
   "id": "571ff643",
   "metadata": {},
   "source": [
    "Google Colabで画像ファイルを読み込むにはまずGoogle Driveをマウントします。Google Driveへのアクセスを許可するかどうか訊かれるので、「許可」します (PC上のJupyter Notebookで実行する場合には以下の操作は不要です)"
   ]
  },
  {
   "cell_type": "code",
   "execution_count": null,
   "id": "73d8df04",
   "metadata": {},
   "outputs": [],
   "source": [
    "from google.colab import drive\n",
    "drive.mount('/content/drive')"
   ]
  },
  {
   "cell_type": "markdown",
   "id": "b56d52f6",
   "metadata": {},
   "source": [
    "Google Driveの中身が drive/MyDrive に見えるようになります。次にサンプル画像ファイル(bulb.jpg)を drive/MyDrive にコピーします"
   ]
  },
  {
   "cell_type": "code",
   "execution_count": null,
   "id": "f502e908",
   "metadata": {},
   "outputs": [],
   "source": [
    "!wget -O drive/MyDrive/bulb.jpg https://github.com/wistaria/toho2022/raw/main/notebooks/bulb.jpg\n",
    "!ls -l drive/MyDrive/bulb.jpg"
   ]
  },
  {
   "cell_type": "markdown",
   "id": "a3eb0543",
   "metadata": {},
   "source": [
    "### 画像の読み込み、変換、出力"
   ]
  },
  {
   "cell_type": "markdown",
   "id": "718d1dea",
   "metadata": {},
   "source": [
    "NumpyとPIL (Pillow)の読み込み"
   ]
  },
  {
   "cell_type": "code",
   "execution_count": null,
   "id": "372edd41",
   "metadata": {},
   "outputs": [],
   "source": [
    "import numpy as np\n",
    "from PIL import Image\n",
    "from PIL import ImageOps"
   ]
  },
  {
   "cell_type": "markdown",
   "id": "dcd1dae9",
   "metadata": {},
   "source": [
    "画像ファイル名 (別のファイルを使う場合は名前を適宜修正する)"
   ]
  },
  {
   "cell_type": "code",
   "execution_count": null,
   "id": "04fbcacb",
   "metadata": {},
   "outputs": [],
   "source": [
    "file_orig = 'drive/MyDrive/bulb.jpg'      # 入力画像ファイル\n",
    "file_gray = 'drive/MyDrive/bulb_gray.jpg' # グレースケール変換後の画像ファイル\n",
    "file_out = 'drive/MyDrive/bulb_out.jpg'   # 最終の画像ファイル\n",
    "\n",
    "# PC上のJupyter Notebookで実行する場合\n",
    "## file_orig = 'bulb.jpg'      # 入力画像ファイル\n",
    "## file_gray = 'bulb_gray.jpg' # グレースケール変換後の画像ファイル\n",
    "## file_out = 'bulb_out.jpg'   # 最終の画像ファイル"
   ]
  },
  {
   "cell_type": "markdown",
   "id": "b96d3598",
   "metadata": {},
   "source": [
    "画像ファイルの読み込み"
   ]
  },
  {
   "cell_type": "code",
   "execution_count": null,
   "id": "9f9b4986",
   "metadata": {},
   "outputs": [],
   "source": [
    "image = Image.open(file_orig)"
   ]
  },
  {
   "cell_type": "markdown",
   "id": "9ebe3a01",
   "metadata": {},
   "source": [
    "グレースケールに変換し保存"
   ]
  },
  {
   "cell_type": "code",
   "execution_count": null,
   "id": "77d0cff3",
   "metadata": {},
   "outputs": [],
   "source": [
    "image_gray = ImageOps.grayscale(image)\n",
    "image_gray.save(file_gray)"
   ]
  },
  {
   "cell_type": "markdown",
   "id": "3f3addd4",
   "metadata": {},
   "source": [
    "行列に変換"
   ]
  },
  {
   "cell_type": "code",
   "execution_count": null,
   "id": "2956db34",
   "metadata": {},
   "outputs": [],
   "source": [
    "A = np.array(image_gray, dtype=float) # 要素が実数の行列に変換\n",
    "print('size of A:', A.shape)\n",
    "print('matrix A\\n', A)\n",
    "\n",
    "#\n",
    "# ここで行列に対して低ランク近似などの操作を行う\n",
    "#"
   ]
  },
  {
   "cell_type": "markdown",
   "id": "8f233816",
   "metadata": {},
   "source": [
    "行列から画像に変換しファイルに保存"
   ]
  },
  {
   "cell_type": "code",
   "execution_count": null,
   "id": "068b0868",
   "metadata": {},
   "outputs": [],
   "source": [
    "image_out = Image.fromarray(np.uint8(A)) # 要素を整数に直してから画像に変換\n",
    "image_out.save(file_out)"
   ]
  },
  {
   "cell_type": "code",
   "execution_count": null,
   "id": "d1ae4d2c",
   "metadata": {},
   "outputs": [],
   "source": []
  }
 ],
 "metadata": {
  "kernelspec": {
   "display_name": "Python 3 (ipykernel)",
   "language": "python",
   "name": "python3"
  },
  "language_info": {
   "codemirror_mode": {
    "name": "ipython",
    "version": 3
   },
   "file_extension": ".py",
   "mimetype": "text/x-python",
   "name": "python",
   "nbconvert_exporter": "python",
   "pygments_lexer": "ipython3",
   "version": "3.9.13"
  }
 },
 "nbformat": 4,
 "nbformat_minor": 5
}
