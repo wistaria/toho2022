{
 "cells": [
  {
   "cell_type": "markdown",
   "id": "cff0f3ab",
   "metadata": {},
   "source": [
    "# 画像の読み込みと変換"
   ]
  },
  {
   "cell_type": "markdown",
   "id": "6253febd",
   "metadata": {},
   "source": [
    "「Copy to Drive」ボタンを押すことで、ノートブックのコピーが自分のGoogle Drive上にコピーされ、実行・保存できるようになります"
   ]
  },
  {
   "cell_type": "markdown",
   "id": "718d1dea",
   "metadata": {},
   "source": [
    "NumpyとPIL (Pillow)の読み込み"
   ]
  },
  {
   "cell_type": "code",
   "execution_count": null,
   "id": "372edd41",
   "metadata": {},
   "outputs": [],
   "source": [
    "import numpy as np\n",
    "from PIL import Image\n",
    "from PIL import ImageOps"
   ]
  },
  {
   "cell_type": "markdown",
   "id": "dcd1dae9",
   "metadata": {},
   "source": [
    "画像ファイル名"
   ]
  },
  {
   "cell_type": "code",
   "execution_count": null,
   "id": "04fbcacb",
   "metadata": {},
   "outputs": [],
   "source": [
    "file = 'bulb'\n",
    "file_orig = file + '.jpg'\n",
    "file_gray = file + '_gray.jpg'\n",
    "file_out = file + '_out.jpg'"
   ]
  },
  {
   "cell_type": "markdown",
   "id": "b96d3598",
   "metadata": {},
   "source": [
    "画像ファイルの読み込み"
   ]
  },
  {
   "cell_type": "code",
   "execution_count": null,
   "id": "9f9b4986",
   "metadata": {},
   "outputs": [],
   "source": [
    "image = Image.open(file_orig)"
   ]
  },
  {
   "cell_type": "markdown",
   "id": "9ebe3a01",
   "metadata": {},
   "source": [
    "グレースケールに変換し保存"
   ]
  },
  {
   "cell_type": "code",
   "execution_count": null,
   "id": "77d0cff3",
   "metadata": {},
   "outputs": [],
   "source": [
    "image_gray = ImageOps.grayscale(image)\n",
    "image_gray.save(file_gray)"
   ]
  },
  {
   "cell_type": "markdown",
   "id": "3f3addd4",
   "metadata": {},
   "source": [
    "行列に変換"
   ]
  },
  {
   "cell_type": "code",
   "execution_count": null,
   "id": "2956db34",
   "metadata": {},
   "outputs": [],
   "source": [
    "a = np.array(image_gray)\n",
    "print('size of A:', a.shape)\n",
    "print('matrix A\\n', a)\n",
    "\n",
    "#\n",
    "# ここで行列に対して低ランク近似などの操作を行う\n",
    "#"
   ]
  },
  {
   "cell_type": "markdown",
   "id": "8f233816",
   "metadata": {},
   "source": [
    "行列から画像に変換しファイルに保存"
   ]
  },
  {
   "cell_type": "code",
   "execution_count": null,
   "id": "068b0868",
   "metadata": {},
   "outputs": [],
   "source": [
    "image_out = Image.fromarray(a)\n",
    "image_out.save(file_out)"
   ]
  },
  {
   "cell_type": "code",
   "execution_count": null,
   "id": "d1ae4d2c",
   "metadata": {},
   "outputs": [],
   "source": []
  }
 ],
 "metadata": {
  "kernelspec": {
   "display_name": "Python 3 (ipykernel)",
   "language": "python",
   "name": "python3"
  },
  "language_info": {
   "codemirror_mode": {
    "name": "ipython",
    "version": 3
   },
   "file_extension": ".py",
   "mimetype": "text/x-python",
   "name": "python",
   "nbconvert_exporter": "python",
   "pygments_lexer": "ipython3",
   "version": "3.9.13"
  }
 },
 "nbformat": 4,
 "nbformat_minor": 5
}
