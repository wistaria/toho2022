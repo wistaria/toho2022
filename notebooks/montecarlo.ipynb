{
 "cells": [
  {
   "cell_type": "markdown",
   "id": "9b7cded5",
   "metadata": {},
   "source": [
    "# モンテカルロ積分"
   ]
  },
  {
   "cell_type": "markdown",
   "id": "cc2ce8fd",
   "metadata": {},
   "source": [
    "「Copy to Drive」ボタンを押すことで、ノートブックのコピーが自分のGoogle Drive上にコピーされ、実行・保存できるようになります"
   ]
  },
  {
   "cell_type": "markdown",
   "id": "05423bb0",
   "metadata": {},
   "source": [
    "セルを上から順に「Shift + Enter」または「Shift + Return」で実行していくことで、結果を確認することができます"
   ]
  },
  {
   "cell_type": "code",
   "execution_count": null,
   "id": "807a7340",
   "metadata": {},
   "outputs": [],
   "source": [
    "import numpy as np\n",
    "import matplotlib.pyplot as plt\n",
    "import statistics\n",
    "import math"
   ]
  },
  {
   "cell_type": "markdown",
   "id": "0636af4b",
   "metadata": {},
   "source": [
    "定数の定義"
   ]
  },
  {
   "cell_type": "code",
   "execution_count": null,
   "id": "36943b5c",
   "metadata": {},
   "outputs": [],
   "source": [
    "c = 20      # カットオフパラメータ\n",
    "mcs = 10000 # モンテカルロステップ数"
   ]
  },
  {
   "cell_type": "markdown",
   "id": "f484eab5",
   "metadata": {},
   "source": [
    "関数の定義"
   ]
  },
  {
   "cell_type": "code",
   "execution_count": null,
   "id": "cb9788b6",
   "metadata": {},
   "outputs": [],
   "source": [
    "def f(x):\n",
    "    return 2 / math.cosh(x)"
   ]
  },
  {
   "cell_type": "markdown",
   "id": "b2f35176",
   "metadata": {},
   "source": [
    "### 一様乱数"
   ]
  },
  {
   "cell_type": "code",
   "execution_count": null,
   "id": "4fdc9def",
   "metadata": {},
   "outputs": [],
   "source": [
    "result = []\n",
    "for i in range(mcs):\n",
    "    x = np.random.random()\n",
    "    result.append(x)\n",
    "    print(x)"
   ]
  },
  {
   "cell_type": "markdown",
   "id": "83a87082",
   "metadata": {},
   "source": [
    "平均、分散、平均値の標準偏差"
   ]
  },
  {
   "cell_type": "code",
   "execution_count": null,
   "id": "e6136eb3",
   "metadata": {},
   "outputs": [],
   "source": [
    "print('平均値:', statistics.mean(result))\n",
    "print('\\n分散:', statistics.variance(result))\n",
    "print('\\n平均値の標準偏差:', statistics.stdev(result) / math.sqrt(mcs))"
   ]
  },
  {
   "cell_type": "markdown",
   "id": "c0397845",
   "metadata": {},
   "source": [
    "ヒストグラム"
   ]
  },
  {
   "cell_type": "code",
   "execution_count": null,
   "id": "8031dbf6",
   "metadata": {},
   "outputs": [],
   "source": [
    "plt.hist(result);"
   ]
  },
  {
   "cell_type": "markdown",
   "id": "eefa416b",
   "metadata": {},
   "source": [
    "### 円周率の計算: 単純サンプリング(1)"
   ]
  },
  {
   "cell_type": "code",
   "execution_count": null,
   "id": "206d6ec1",
   "metadata": {},
   "outputs": [],
   "source": [
    "result = []\n",
    "for i in range(mcs):\n",
    "    x = c * np.random.random()\n",
    "    y = 2 * np.random.random()\n",
    "    if y < f(x):\n",
    "        r = 2 * c\n",
    "    else:\n",
    "        r = 0\n",
    "    result.append(r)\n",
    "    print(x, y, r)"
   ]
  },
  {
   "cell_type": "markdown",
   "id": "79a46d36",
   "metadata": {},
   "source": [
    "平均、分散、平均値の標準偏差"
   ]
  },
  {
   "cell_type": "code",
   "execution_count": null,
   "id": "bf063829",
   "metadata": {},
   "outputs": [],
   "source": [
    "print('平均値:', statistics.mean(result))\n",
    "print('\\n分散:', statistics.variance(result))\n",
    "print('\\n平均値の標準偏差:', statistics.stdev(result) / math.sqrt(mcs))"
   ]
  },
  {
   "cell_type": "markdown",
   "id": "c8c4b57b",
   "metadata": {},
   "source": [
    "ヒストグラム"
   ]
  },
  {
   "cell_type": "code",
   "execution_count": null,
   "id": "a663698b",
   "metadata": {},
   "outputs": [],
   "source": [
    "plt.hist(result);"
   ]
  },
  {
   "cell_type": "code",
   "execution_count": null,
   "id": "088f93ce",
   "metadata": {},
   "outputs": [],
   "source": []
  }
 ],
 "metadata": {
  "kernelspec": {
   "display_name": "Python 3 (ipykernel)",
   "language": "python",
   "name": "python3"
  },
  "language_info": {
   "codemirror_mode": {
    "name": "ipython",
    "version": 3
   },
   "file_extension": ".py",
   "mimetype": "text/x-python",
   "name": "python",
   "nbconvert_exporter": "python",
   "pygments_lexer": "ipython3",
   "version": "3.9.13"
  }
 },
 "nbformat": 4,
 "nbformat_minor": 5
}
