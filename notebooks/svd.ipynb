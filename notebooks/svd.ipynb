{
 "cells": [
  {
   "cell_type": "markdown",
   "id": "9b7cded5",
   "metadata": {},
   "source": [
    "# 特異値分解"
   ]
  },
  {
   "cell_type": "markdown",
   "id": "cc2ce8fd",
   "metadata": {},
   "source": [
    "「Copy to Drive」ボタンを押すことで、ノートブックのコピーが自分のGoogle Drive上にコピーされ、実行・保存できるようになります"
   ]
  },
  {
   "cell_type": "markdown",
   "id": "62dd575d",
   "metadata": {},
   "source": [
    "Numpyの読み込み"
   ]
  },
  {
   "cell_type": "code",
   "execution_count": null,
   "id": "807a7340",
   "metadata": {},
   "outputs": [],
   "source": [
    "import numpy as np"
   ]
  },
  {
   "cell_type": "markdown",
   "id": "0636af4b",
   "metadata": {},
   "source": [
    "行列の定義"
   ]
  },
  {
   "cell_type": "code",
   "execution_count": null,
   "id": "36943b5c",
   "metadata": {},
   "outputs": [],
   "source": [
    "A = np.array([[1,2,3], [6,4,5], [8,9,7], [10,11,12]])\n",
    "print('matrix A\\n', A)"
   ]
  },
  {
   "cell_type": "markdown",
   "id": "b2f35176",
   "metadata": {},
   "source": [
    "### 完全特異値分解 (full SVD)"
   ]
  },
  {
   "cell_type": "code",
   "execution_count": null,
   "id": "4fdc9def",
   "metadata": {},
   "outputs": [],
   "source": [
    "U, S, Vt = np.linalg.svd(A, full_matrices = True)\n",
    "print('\\nfull SVD')\n",
    "print('matrix U\\n', U)\n",
    "print('singular values\\n', S)\n",
    "print('matrix Vt\\n', Vt)"
   ]
  },
  {
   "cell_type": "markdown",
   "id": "c0397845",
   "metadata": {},
   "source": [
    "UもVも直交行列"
   ]
  },
  {
   "cell_type": "code",
   "execution_count": null,
   "id": "8031dbf6",
   "metadata": {},
   "outputs": [],
   "source": [
    "print('Ut x U = E\\n', U.transpose() @ U)\n",
    "print('U x Ut = E\\n', U @ U.transpose())\n",
    "print('Vt x V = E\\n', Vt @ Vt.transpose())\n",
    "print('V x Vt = E\\n', Vt.transpose() @ Vt)"
   ]
  },
  {
   "cell_type": "markdown",
   "id": "eefa416b",
   "metadata": {},
   "source": [
    "### (薄い)特異値分解 (thin SVD)"
   ]
  },
  {
   "cell_type": "code",
   "execution_count": null,
   "id": "206d6ec1",
   "metadata": {},
   "outputs": [],
   "source": [
    "U, S, Vt = np.linalg.svd(A, full_matrices = False)\n",
    "print('\\n(thin) SVD')\n",
    "print('matrix U\\n', U)\n",
    "print('singular values\\n', S)\n",
    "print('matrix Vt\\n', Vt)"
   ]
  },
  {
   "cell_type": "markdown",
   "id": "79a46d36",
   "metadata": {},
   "source": [
    "Ut x U, Vt x V, V x Vtは単位行列だが、U x Utは単位行列ではない"
   ]
  },
  {
   "cell_type": "code",
   "execution_count": null,
   "id": "bf063829",
   "metadata": {},
   "outputs": [],
   "source": [
    "print('Ut x U = E\\n', U.transpose() @ U)\n",
    "print('U x Ut != E\\n', U @ U.transpose())\n",
    "print('Vt x V = E\\n', Vt @ Vt.transpose())\n",
    "print('V x Vt = E\\n', Vt.transpose() @ Vt)"
   ]
  },
  {
   "cell_type": "markdown",
   "id": "c8c4b57b",
   "metadata": {},
   "source": [
    "行列の再構成"
   ]
  },
  {
   "cell_type": "code",
   "execution_count": null,
   "id": "597d1bcf",
   "metadata": {},
   "outputs": [],
   "source": [
    "U, S, Vt = np.linalg.svd(A, full_matrices = False)\n",
    "Ar = (U @ np.diag(S) @ Vt)\n",
    "print('\\nreconstructed A:\\n', U @ np.diag(S) @ Vt)"
   ]
  },
  {
   "cell_type": "markdown",
   "id": "9d90f146",
   "metadata": {},
   "source": [
    "### 低ランク近似"
   ]
  },
  {
   "cell_type": "markdown",
   "id": "7646e362",
   "metadata": {},
   "source": [
    "rank=2近似"
   ]
  },
  {
   "cell_type": "code",
   "execution_count": null,
   "id": "44287a0a",
   "metadata": {},
   "outputs": [],
   "source": [
    "U, S, Vt = np.linalg.svd(A, full_matrices = False)\n",
    "S[2:] = 0 # 3番目以降の要素をゼロに\n",
    "print('\\nrank-2 approximation')\n",
    "print('singular values\\n', S)\n",
    "print('reconstructed A:\\n', U @ np.diag(S) @ Vt)"
   ]
  },
  {
   "cell_type": "markdown",
   "id": "c6e4fa4d",
   "metadata": {},
   "source": [
    "rank=1近似"
   ]
  },
  {
   "cell_type": "code",
   "execution_count": null,
   "id": "fc049c9a",
   "metadata": {},
   "outputs": [],
   "source": [
    "U, S, Vt = np.linalg.svd(A, full_matrices = False)\n",
    "S[1:] = 0 # 2番目以降の要素をゼロに\n",
    "print('\\nrank-1 approximation')\n",
    "print('singular values\\n', S)\n",
    "print('reconstructed A:\\n', U @ np.diag(S) @ Vt)"
   ]
  },
  {
   "cell_type": "code",
   "execution_count": null,
   "id": "a663698b",
   "metadata": {},
   "outputs": [],
   "source": []
  }
 ],
 "metadata": {
  "kernelspec": {
   "display_name": "Python 3 (ipykernel)",
   "language": "python",
   "name": "python3"
  },
  "language_info": {
   "codemirror_mode": {
    "name": "ipython",
    "version": 3
   },
   "file_extension": ".py",
   "mimetype": "text/x-python",
   "name": "python",
   "nbconvert_exporter": "python",
   "pygments_lexer": "ipython3",
   "version": "3.9.13"
  }
 },
 "nbformat": 4,
 "nbformat_minor": 5
}
